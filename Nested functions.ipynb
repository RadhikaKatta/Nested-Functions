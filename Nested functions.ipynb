{
 "cells": [
  {
   "cell_type": "code",
   "execution_count": 7,
   "id": "17ff342b-9afa-4617-98c2-d90ce238d1ed",
   "metadata": {},
   "outputs": [
    {
     "name": "stdout",
     "output_type": "stream",
     "text": [
      "this is the outer fun't...\n",
      "this is inner fun't...\n"
     ]
    }
   ],
   "source": [
    "###nested functions\n",
    "#function within function\n",
    "def outer():\n",
    "    print(\"this is the outer fun't...\")\n",
    "    def inner():\n",
    "        print(\"this is inner fun't...\")\n",
    "    inner()\n",
    "outer()      \n",
    "        "
   ]
  },
  {
   "cell_type": "code",
   "execution_count": 13,
   "id": "b7a5c990-4d53-453a-9c6d-d5609b3b66e9",
   "metadata": {},
   "outputs": [
    {
     "name": "stdout",
     "output_type": "stream",
     "text": [
      "this is the outer fun't...\n"
     ]
    },
    {
     "ename": "NameError",
     "evalue": "name 'inner' is not defined",
     "output_type": "error",
     "traceback": [
      "\u001b[1;31m---------------------------------------------------------------------------\u001b[0m",
      "\u001b[1;31mNameError\u001b[0m                                 Traceback (most recent call last)",
      "Cell \u001b[1;32mIn[13], line 6\u001b[0m\n\u001b[0;32m      4\u001b[0m         \u001b[38;5;28mprint\u001b[39m(\u001b[38;5;124m\"\u001b[39m\u001b[38;5;124mthis is inner fun\u001b[39m\u001b[38;5;124m'\u001b[39m\u001b[38;5;124mt...\u001b[39m\u001b[38;5;124m\"\u001b[39m)\n\u001b[0;32m      5\u001b[0m outer()      \n\u001b[1;32m----> 6\u001b[0m inner()\n",
      "\u001b[1;31mNameError\u001b[0m: name 'inner' is not defined"
     ]
    }
   ],
   "source": [
    "##error \n",
    "def outer():\n",
    "    print(\"this is the outer fun't...\")\n",
    "    def inner():\n",
    "        print(\"this is inner fun't...\")\n",
    "outer()      \n",
    "inner()     #we have to call the inner one inner program only and outer fun't outer only\n"
   ]
  },
  {
   "cell_type": "code",
   "execution_count": 22,
   "id": "ebaccefe-1b36-4de6-9357-4d7b105188ad",
   "metadata": {},
   "outputs": [
    {
     "name": "stdin",
     "output_type": "stream",
     "text": [
      "enter a number: 10\n",
      "enter a number: 2\n"
     ]
    },
    {
     "name": "stdout",
     "output_type": "stream",
     "text": [
      "Addition 12\n",
      "subtraction 8\n",
      "multiplicaton 20\n",
      "division 5.0\n"
     ]
    }
   ],
   "source": [
    "#fun't within fun't\n",
    "def cal(a,b):#these are stastic variables which are constant values which are we defined as a,b and turn into global stastic variables\n",
    "    def add():\n",
    "        return a+b\n",
    "    def sub():\n",
    "         return a-b\n",
    "    def mul():\n",
    "         return a*b\n",
    "    def div():\n",
    "        return a/b\n",
    "    print(\"Addition\",add())  \n",
    "    print(\"subtraction\",sub())\n",
    "    print(\"multiplicaton\",mul())    \n",
    "    print(\"division\",div())\n",
    "a=int(input(\"enter a number:\")) # 1st executing statements bec they are global statements\n",
    "b=int(input(\"enter a number:\"))#\n",
    "cal(a,b)#here it goes to cal statement and execute the 1st statement"
   ]
  },
  {
   "cell_type": "code",
   "execution_count": 30,
   "id": "5b71d261-fe29-480e-af06-bdfa7760c953",
   "metadata": {},
   "outputs": [
    {
     "name": "stdout",
     "output_type": "stream",
     "text": [
      "10\n",
      "30\n"
     ]
    }
   ],
   "source": [
    "def mul_by(n):#n=2,n=3\n",
    "    def inner(x):#cqll inner fun't x=5,x=10\n",
    "        return x*n #x*2=5*2=10 ,x*3=10*3=30\n",
    "    return inner  \n",
    "times_2=mul_by(2)#n=2\n",
    "times_3=mul_by(3)#n=3\n",
    "print(times_2(5)) \n",
    "print(times_3(10))"
   ]
  },
  {
   "cell_type": "code",
   "execution_count": 32,
   "id": "f3d7e4ae-b5b7-404c-98eb-df048ae5f62a",
   "metadata": {},
   "outputs": [
    {
     "name": "stdout",
     "output_type": "stream",
     "text": [
      "hello,vijay!!!!!!\n"
     ]
    }
   ],
   "source": [
    "#passing inner \n",
    "def greet(text):\n",
    "    def inner(name):\n",
    "        return f\"{text},{name}!!!!!!\"\n",
    "    return inner\n",
    "hi=greet('hello')\n",
    "print(hi('vijay'))\n"
   ]
  },
  {
   "cell_type": "code",
   "execution_count": 40,
   "id": "8566c495-c0b4-4206-bba1-b517e4998f7f",
   "metadata": {},
   "outputs": [
    {
     "name": "stdout",
     "output_type": "stream",
     "text": [
      "Hello,Mr.Junior\n",
      "Hello,Dr.jason\n"
     ]
    }
   ],
   "source": [
    "def titled(title):\n",
    "    def greet(name):\n",
    "        return f\"Hello,{title}{name}\"\n",
    "    return greet\n",
    "mr_greet=titled(\"Mr.\")\n",
    "dr_greet=titled(\"Dr.\")\n",
    "print(mr_greet(\"Junior\"))\n",
    "print(dr_greet(\"jason\"))\n",
    "\n"
   ]
  },
  {
   "cell_type": "code",
   "execution_count": null,
   "id": "506992af-c2ae-48bc-805f-3e1100c99681",
   "metadata": {},
   "outputs": [],
   "source": [
    "def mul_by(n):#n=2,n=3\n",
    "    def inner(x):#cqll inner fun't x=5,x=10\n",
    "        return x*n #x*2=5*2=10 ,x*3=10*3=30\n",
    "    return inner  \n",
    "times_2=mul_by(2)#n=2\n",
    "times_3=mul_by(3)#n=3\n",
    "print(times_2(5)) \n",
    "print(times_3(10))"
   ]
  },
  {
   "cell_type": "code",
   "execution_count": 60,
   "id": "fac4d1ef-2fcd-4b94-8047-80bca81a0fc5",
   "metadata": {},
   "outputs": [
    {
     "name": "stdout",
     "output_type": "stream",
     "text": [
      "x=  22\n",
      "locally 32\n",
      "x=  100\n",
      "latest value of y globally: 25\n",
      "globally 125\n"
     ]
    }
   ],
   "source": [
    "x=100\n",
    "y=10\n",
    "def display():\n",
    "    x=22\n",
    "    print(\"x= \",x)\n",
    "    print(\"locally\",x+y)\n",
    "display()\n",
    "print(\"x= \",x)\n",
    "y=10\n",
    "y=25\n",
    "print(\"latest value of y globally:\",y)\n",
    "print(\"globally\",x+y)"
   ]
  },
  {
   "cell_type": "code",
   "execution_count": 87,
   "id": "7f116bcd-f220-4fe9-8374-f5e4e605aa08",
   "metadata": {},
   "outputs": [
    {
     "name": "stdin",
     "output_type": "stream",
     "text": [
      "enter marks of a subject: 10\n"
     ]
    },
    {
     "name": "stdout",
     "output_type": "stream",
     "text": [
      "subject1 marks: 10\n"
     ]
    },
    {
     "name": "stdin",
     "output_type": "stream",
     "text": [
      "enter marks of a subject: 10\n"
     ]
    },
    {
     "name": "stdout",
     "output_type": "stream",
     "text": [
      "subject2 marks: 10\n"
     ]
    },
    {
     "name": "stdin",
     "output_type": "stream",
     "text": [
      "enter marks of a subject: 20\n"
     ]
    },
    {
     "name": "stdout",
     "output_type": "stream",
     "text": [
      "subject3 marks: 20\n",
      "total marks stored in global: 40\n"
     ]
    }
   ],
   "source": [
    "total=0\n",
    "def add_subject_marks():\n",
    "    global total\n",
    "    marks=int(input(\"enter marks of a subject:\"))\n",
    "    total+=marks\n",
    "    return marks\n",
    "print(\"subject1 marks:\",add_subject_marks())\n",
    "print(\"subject2 marks:\",add_subject_marks())\n",
    "print(\"subject3 marks:\",add_subject_marks())\n",
    "print(\"total marks stored in global:\",total)"
   ]
  },
  {
   "cell_type": "code",
   "execution_count": 97,
   "id": "27614934-073c-4e43-bcf6-cf1b90a1ad76",
   "metadata": {},
   "outputs": [
    {
     "name": "stdin",
     "output_type": "stream",
     "text": [
      "enter marks for a subject: 10\n"
     ]
    },
    {
     "name": "stdout",
     "output_type": "stream",
     "text": [
      "subject 1 marks: 10\n"
     ]
    },
    {
     "name": "stdin",
     "output_type": "stream",
     "text": [
      "enter marks for a subject: 10\n"
     ]
    },
    {
     "name": "stdout",
     "output_type": "stream",
     "text": [
      "subject 2 marks: 10\n"
     ]
    },
    {
     "name": "stdin",
     "output_type": "stream",
     "text": [
      "enter marks for a subject: 10\n"
     ]
    },
    {
     "name": "stdout",
     "output_type": "stream",
     "text": [
      "subject 3 marks: 10\n",
      "Allsubject marks [10, 10, 10]\n",
      "Total marks 30\n",
      "Average 10.0\n"
     ]
    }
   ],
   "source": [
    "#\n",
    "subject_marks=[]\n",
    "def add_subject_marks():\n",
    "    mark=int(input(\"enter marks for a subject:\"))\n",
    "    subject_marks.append(mark)\n",
    "    return mark\n",
    "print(\"subject 1 marks:\",add_subject_marks())    \n",
    "print(\"subject 2 marks:\",add_subject_marks()) \n",
    "print(\"subject 3 marks:\",add_subject_marks()) \n",
    "print(\"Allsubject marks\",subject_marks)\n",
    "total=sum(subject_marks)\n",
    "l=len(subject_marks)\n",
    "avg=total/l\n",
    "print(\"Total marks\",total)\n",
    "print(\"Average\",avg)"
   ]
  },
  {
   "cell_type": "code",
   "execution_count": null,
   "id": "733d26e8-e974-4e19-8dd6-a56830c3fd29",
   "metadata": {},
   "outputs": [],
   "source": []
  },
  {
   "cell_type": "markdown",
   "id": "083cefb7-562b-4ea0-baa7-b270f5f353e8",
   "metadata": {},
   "source": []
  }
 ],
 "metadata": {
  "kernelspec": {
   "display_name": "Python 3 (ipykernel)",
   "language": "python",
   "name": "python3"
  },
  "language_info": {
   "codemirror_mode": {
    "name": "ipython",
    "version": 3
   },
   "file_extension": ".py",
   "mimetype": "text/x-python",
   "name": "python",
   "nbconvert_exporter": "python",
   "pygments_lexer": "ipython3",
   "version": "3.12.7"
  }
 },
 "nbformat": 4,
 "nbformat_minor": 5
}
